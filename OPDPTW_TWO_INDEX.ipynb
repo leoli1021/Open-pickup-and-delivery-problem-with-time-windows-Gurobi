{
 "cells": [
  {
   "cell_type": "code",
   "execution_count": 39,
   "outputs": [],
   "source": [
    "import gurobipy as gp\n",
    "from gurobipy import GRB\n",
    "from gurobipy import LinExpr\n",
    "import pandas as pd\n",
    "import math\n",
    "import matplotlib.pyplot as plt\n",
    "\n",
    "from matplotlib import rcParams\n",
    "\n",
    "config = {\n",
    "    \"font.family\":'serif',\n",
    "    \"font.size\": 10.5,\n",
    "    \"mathtext.fontset\":'stix',\n",
    "    \"font.serif\": ['SimSun'],\n",
    "}\n",
    "rcParams.update(config)"
   ],
   "metadata": {
    "collapsed": false,
    "pycharm": {
     "name": "#%%\n"
    }
   }
  },
  {
   "cell_type": "markdown",
   "source": [
    "# 模型来源\n",
    "# Pickup and delivery problem with time windows: A new compact two-index formulation\n",
    "## DOI: http://dx.doi.org/10.1016/j.orl.2017.04.013\n",
    "![图片](img.png)"
   ],
   "metadata": {
    "collapsed": false,
    "pycharm": {
     "name": "#%% md\n"
    }
   }
  },
  {
   "cell_type": "markdown",
   "source": [
    "# 上述模型缺乏服务时间"
   ],
   "metadata": {
    "collapsed": false,
    "pycharm": {
     "name": "#%% md\n"
    }
   }
  },
  {
   "cell_type": "code",
   "execution_count": 2,
   "outputs": [],
   "source": [
    "\"\"\"数据读取\"\"\"\n",
    "class Data:#数据类\n",
    "    def __init__(self):\n",
    "        self.businessNum = 10 # 商家数量\n",
    "        self.customerNum = 10 # 客户数量\n",
    "        self.nodeNum     = 22 # 点数量\n",
    "\n",
    "        self.capacity    = 80 #车辆容量\n",
    "        self.cor_X       = [] #x坐标\n",
    "        self.cor_Y       = [] #y坐标\n",
    "        self.demand      = [] #客户需求\n",
    "        self.service_time = [] #服务时间\n",
    "        self.early_time   = [] #最早时间窗\n",
    "        self.last_time     = [] #最晚时间窗\n",
    "        self.disMatrix   = [[]] # 距离矩阵"
   ],
   "metadata": {
    "collapsed": false,
    "pycharm": {
     "name": "#%%\n"
    }
   }
  },
  {
   "cell_type": "code",
   "execution_count": 3,
   "outputs": [],
   "source": [
    "# 读取数据函数\n",
    "def readData(data, path):\n",
    "    df = pd.read_excel(path)\n",
    "    df.loc[len(df)] = df.iloc[0]\n",
    "\n",
    "    data.nodeNum = int(len(df))  # 节点数量\n",
    "    data.businessNum = int((data.nodeNum - 2) /2)\n",
    "    data.customerNum = data.businessNum # 客户数量\n",
    "\n",
    "    for i in range(len(df)):\n",
    "        data.cor_X.append(df['x_coord'][i])\n",
    "        data.cor_Y.append(df['y_coord'][i])\n",
    "        data.demand.append(df['demand'][i])\n",
    "        data.early_time.append(df['early_time'][i])\n",
    "        data.last_time.append(df['last_time'][i])\n",
    "        data.service_time.append(df['service_time'][i])\n",
    "\n",
    "    # 计算距离矩阵\n",
    "    data.disMatrix = [([0] * data.nodeNum) for _ in range(data.nodeNum)]  # 初始化距离矩阵的维度,防止浅拷贝\n",
    "    # data.disMatrix = [[0] * nodeNum] * nodeNum]; 这个是浅拷贝，容易重复\n",
    "    for i in range(data.nodeNum):\n",
    "        for j in range(data.nodeNum):\n",
    "            temp = (data.cor_X[i] - data.cor_X[j]) ** 2 + (data.cor_Y[i] - data.cor_Y[j]) ** 2\n",
    "            data.disMatrix[i][j] = math.sqrt(temp)\n",
    "\n",
    "    return data\n",
    "\n",
    "def printData(data):\n",
    "    print(\"下面打印数据\\n\")\n",
    "    print(\"business number = %4d\" % data.businessNum)\n",
    "    print(\"customer number = %4d\" % data.customerNum)\n",
    "    print(\"vehicle capacity = %4d\" % data.capacity)\n",
    "    for i in range(len(data.demand)):\n",
    "        print('{0}\\t{1}\\t{2}\\t{3}\\t{4}\\t{5}'.format(data.cor_X[i],data.cor_Y[i],data.demand[i], data.early_time[i], data.last_time[i], data.service_time[i]))\n",
    "    print(\"-------距离矩阵-------\\n\")\n",
    "    for i in range(data.nodeNum):\n",
    "        for j in range(data.nodeNum):\n",
    "            print(\"%6.2f\" % (data.disMatrix[i][j]), end=\" \")#保留2位小数\n",
    "        print()"
   ],
   "metadata": {
    "collapsed": false,
    "pycharm": {
     "name": "#%%\n"
    }
   }
  },
  {
   "cell_type": "code",
   "execution_count": 4,
   "outputs": [
    {
     "name": "stdout",
     "output_type": "stream",
     "text": [
      "下面打印数据\n",
      "\n",
      "business number =   10\n",
      "customer number =   10\n",
      "vehicle capacity =   80\n",
      "40\t50\t0\t0\t1236\t0\n",
      "35\t69\t10\t448\t505\t90\n",
      "40\t69\t20\t621\t702\t90\n",
      "42\t66\t10\t65\t146\t90\n",
      "38\t70\t10\t534\t605\t90\n",
      "42\t65\t10\t15\t67\t90\n",
      "38\t68\t20\t225\t324\t90\n",
      "15\t75\t20\t179\t254\t90\n",
      "22\t75\t30\t30\t92\t90\n",
      "20\t85\t40\t475\t528\t90\n",
      "15\t80\t10\t278\t345\t90\n",
      "45\t68\t-10\t912\t967\t90\n",
      "45\t70\t-20\t825\t870\t90\n",
      "45\t65\t-10\t997\t1068\t90\n",
      "42\t68\t-10\t727\t782\t90\n",
      "40\t66\t-10\t170\t225\t90\n",
      "35\t66\t-20\t357\t410\t90\n",
      "25\t85\t-20\t652\t721\t90\n",
      "18\t75\t-30\t99\t148\t90\n",
      "22\t85\t-40\t567\t620\t90\n",
      "20\t80\t-10\t384\t429\t90\n",
      "40\t50\t0\t0\t1236\t0\n",
      "-------距离矩阵-------\n",
      "\n",
      "  0.00  19.65  19.00  16.12  20.10  15.13  18.11  35.36  30.81  40.31  39.05  18.68  20.62  15.81  18.11  16.00  16.76  38.08  33.30  39.36  36.06   0.00 \n",
      " 19.65   0.00   5.00   7.62   3.16   8.06   3.16  20.88  14.32  21.93  22.83  10.05  10.05  10.77   7.07   5.83   3.00  18.87  18.03  20.62  18.60  19.65 \n",
      " 19.00   5.00   0.00   3.61   2.24   4.47   2.24  25.71  18.97  25.61  27.31   5.10   5.10   6.40   2.24   3.00   5.83  21.93  22.80  24.08  22.83  19.00 \n",
      " 16.12   7.62   3.61   0.00   5.66   1.00   4.47  28.46  21.93  29.07  30.41   3.61   5.00   3.16   2.00   2.00   7.00  25.50  25.63  27.59  26.08  16.12 \n",
      " 20.10   3.16   2.24   5.66   0.00   6.40   2.00  23.54  16.76  23.43  25.08   7.28   7.00   8.60   4.47   4.47   5.00  19.85  20.62  21.93  20.59  20.10 \n",
      " 15.13   8.06   4.47   1.00   6.40   0.00   5.00  28.79  22.36  29.73  30.89   4.24   5.83   3.00   3.00   2.24   7.07  26.25  26.00  28.28  26.63  15.13 \n",
      " 18.11   3.16   2.24   4.47   2.00   5.00   0.00  24.04  17.46  24.76  25.94   7.00   7.28   7.62   4.00   2.83   3.61  21.40  21.19  23.35  21.63  18.11 \n",
      " 35.36  20.88  25.71  28.46  23.54  28.79  24.04   0.00   7.00  11.18   5.00  30.81  30.41  31.62  27.89  26.57  21.93  14.14   3.00  12.21   7.07  35.36 \n",
      " 30.81  14.32  18.97  21.93  16.76  22.36  17.46   7.00   0.00  10.20   8.60  24.04  23.54  25.08  21.19  20.12  15.81  10.44   4.00  10.00   5.39  30.81 \n",
      " 40.31  21.93  25.61  29.07  23.43  29.73  24.76  11.18  10.20   0.00   7.07  30.23  29.15  32.02  27.80  27.59  24.21   5.00  10.20   2.00   5.00  40.31 \n",
      " 39.05  22.83  27.31  30.41  25.08  30.89  25.94   5.00   8.60   7.07   0.00  32.31  31.62  33.54  29.55  28.65  24.41  11.18   5.83   8.60   5.00  39.05 \n",
      " 18.68  10.05   5.10   3.61   7.28   4.24   7.00  30.81  24.04  30.23  32.31   0.00   2.00   3.00   3.00   5.39  10.20  26.25  27.89  28.60  27.73  18.68 \n",
      " 20.62  10.05   5.10   5.00   7.00   5.83   7.28  30.41  23.54  29.15  31.62   2.00   0.00   5.00   3.61   6.40  10.77  25.00  27.46  27.46  26.93  20.62 \n",
      " 15.81  10.77   6.40   3.16   8.60   3.00   7.62  31.62  25.08  32.02  33.54   3.00   5.00   0.00   4.24   5.10  10.05  28.28  28.79  30.48  29.15  15.81 \n",
      " 18.11   7.07   2.24   2.00   4.47   3.00   4.00  27.89  21.19  27.80  29.55   3.00   3.61   4.24   0.00   2.83   7.28  24.04  25.00  26.25  25.06  18.11 \n",
      " 16.00   5.83   3.00   2.00   4.47   2.24   2.83  26.57  20.12  27.59  28.65   5.39   6.40   5.10   2.83   0.00   5.00  24.21  23.77  26.17  24.41  16.00 \n",
      " 16.76   3.00   5.83   7.00   5.00   7.07   3.61  21.93  15.81  24.21  24.41  10.20  10.77  10.05   7.28   5.00   0.00  21.47  19.24  23.02  20.52  16.76 \n",
      " 38.08  18.87  21.93  25.50  19.85  26.25  21.40  14.14  10.44   5.00  11.18  26.25  25.00  28.28  24.04  24.21  21.47   0.00  12.21   3.00   7.07  38.08 \n",
      " 33.30  18.03  22.80  25.63  20.62  26.00  21.19   3.00   4.00  10.20   5.83  27.89  27.46  28.79  25.00  23.77  19.24  12.21   0.00  10.77   5.39  33.30 \n",
      " 39.36  20.62  24.08  27.59  21.93  28.28  23.35  12.21  10.00   2.00   8.60  28.60  27.46  30.48  26.25  26.17  23.02   3.00  10.77   0.00   5.39  39.36 \n",
      " 36.06  18.60  22.83  26.08  20.59  26.63  21.63   7.07   5.39   5.00   5.00  27.73  26.93  29.15  25.06  24.41  20.52   7.07   5.39   5.39   0.00  36.06 \n",
      "  0.00  19.65  19.00  16.12  20.10  15.13  18.11  35.36  30.81  40.31  39.05  18.68  20.62  15.81  18.11  16.00  16.76  38.08  33.30  39.36  36.06   0.00 \n"
     ]
    }
   ],
   "source": [
    "# reading data调用上面两个函数\n",
    "data = Data()\n",
    "path = r'pdptw_data.xlsx'\n",
    "readData(data, path)\n",
    "printData(data)"
   ],
   "metadata": {
    "collapsed": false,
    "pycharm": {
     "name": "#%%\n"
    }
   }
  },
  {
   "cell_type": "code",
   "execution_count": 5,
   "outputs": [],
   "source": [
    "\"\"\"建立模型\"\"\"\n",
    "m = gp.Model('OPDPTW_TWO_INDEX')"
   ],
   "metadata": {
    "collapsed": false,
    "pycharm": {
     "name": "#%%\n"
    }
   }
  },
  {
   "cell_type": "code",
   "execution_count": 6,
   "outputs": [],
   "source": [
    "\"\"\"添加变量\"\"\"\n",
    "# binary--decision variable xijk\n",
    "x = {}\n",
    "# vehicle load\n",
    "Q = {}\n",
    "# the time that a vehicle starts servicing node i\n",
    "B = {}\n",
    "# the index of the first node in the route that visits node\n",
    "v = {}\n",
    "\n",
    "# 定义xij\n",
    "for i in range(data.nodeNum):\n",
    "    for j in range(data.nodeNum):\n",
    "        x[i,j] = m.addVar(lb=0, ub=1, vtype=GRB.BINARY, name='x[%s,%s]' % (i,j))\n",
    "# vehicle load\n",
    "for i in range(data.nodeNum):\n",
    "    Q[i] = m.addVar(lb=0, vtype=GRB.CONTINUOUS, name='Q[%s]' % i)\n",
    "#\n",
    "for i in range(data.nodeNum):\n",
    "    B[i] = m.addVar(lb=0, vtype=GRB.CONTINUOUS, name='B[%s]' % i)\n",
    "#\n",
    "for i in range(data.nodeNum):\n",
    "    v[i] = m.addVar(lb=0, vtype=GRB.CONTINUOUS, name='v[%s]' % i)"
   ],
   "metadata": {
    "collapsed": false,
    "pycharm": {
     "name": "#%%\n"
    }
   }
  },
  {
   "cell_type": "code",
   "execution_count": 7,
   "outputs": [],
   "source": [
    "\"\"\"更新模型\"\"\"\n",
    "m.update()"
   ],
   "metadata": {
    "collapsed": false,
    "pycharm": {
     "name": "#%%\n"
    }
   }
  },
  {
   "cell_type": "code",
   "execution_count": 8,
   "outputs": [],
   "source": [
    "\"\"\"设置目标函数\"\"\"\n",
    "# 1\n",
    "obj = LinExpr(0)\n",
    "for i in range(data.nodeNum):\n",
    "    for j in range(data.nodeNum):\n",
    "        if(i != j):\n",
    "            obj.addTerms(data.disMatrix[i][j], x[i,j])\n",
    "m.setObjective(obj)"
   ],
   "metadata": {
    "collapsed": false,
    "pycharm": {
     "name": "#%%\n"
    }
   }
  },
  {
   "cell_type": "code",
   "execution_count": 9,
   "outputs": [],
   "source": [
    "\"\"\"添加约束条件\"\"\"\n",
    "P = range(1,data.businessNum+1)\n",
    "D = range(data.businessNum+1,data.nodeNum-1)\n",
    "PUD = range(1,data.nodeNum-1)\n",
    "N = range(data.nodeNum)"
   ],
   "metadata": {
    "collapsed": false,
    "pycharm": {
     "name": "#%%\n"
    }
   }
  },
  {
   "cell_type": "code",
   "execution_count": 10,
   "outputs": [],
   "source": [
    "# 2 可以\n",
    "for j in PUD:\n",
    "    st = LinExpr(0)\n",
    "    for i in N:\n",
    "        st.addTerms(1,x[i,j])\n",
    "    m.addConstr(st==1, name='st1')"
   ],
   "metadata": {
    "collapsed": false,
    "pycharm": {
     "name": "#%%\n"
    }
   }
  },
  {
   "cell_type": "code",
   "execution_count": 11,
   "outputs": [],
   "source": [
    "# 3 可以 改\n",
    "for i in PUD:\n",
    "    st = LinExpr(0)\n",
    "    # for j in N:\n",
    "    for j in range(0,data.nodeNum-1):\n",
    "        st.addTerms(1,x[i,j])\n",
    "    # m.addConstr(st==1, name='st2')\n",
    "    m.addConstr(st<=1, name='st2')"
   ],
   "metadata": {
    "collapsed": false,
    "pycharm": {
     "name": "#%%\n"
    }
   }
  },
  {
   "cell_type": "code",
   "execution_count": 12,
   "outputs": [],
   "source": [
    "# 4 加上服务时间\n",
    "M = 100000\n",
    "for i in N:\n",
    "    for j in N:\n",
    "        m.addConstr(B[j] >= B[i] + data.disMatrix[i][j] - M * (1 - x[i,j]) + data.service_time[i],name='st3')"
   ],
   "metadata": {
    "collapsed": false,
    "pycharm": {
     "name": "#%%\n"
    }
   }
  },
  {
   "cell_type": "code",
   "execution_count": 13,
   "outputs": [],
   "source": [
    "# 5\n",
    "for i in N:\n",
    "    for j in N:\n",
    "        m.addConstr(Q[j] >= Q[i] + data.demand[j] - M * (1 - x[i,j]),name='st4')"
   ],
   "metadata": {
    "collapsed": false,
    "pycharm": {
     "name": "#%%\n"
    }
   }
  },
  {
   "cell_type": "code",
   "execution_count": 14,
   "outputs": [],
   "source": [
    "# 6 使用class会出问题\n",
    "early_time = [0, 448, 621, 65, 534, 15, 225, 179, 30, 475, 278, 912, 825, 997, 727, 170, 357, 652, 99, 567, 384, 0]\n",
    "last_time = [1236, 505, 702, 146, 605, 67, 324, 254, 92, 528, 345, 967, 870, 1068, 782, 225, 410, 721, 148, 620, 429, 1236]\n",
    "\n",
    "for i in N:\n",
    "    # 报错 GurobiError: Constraint has no bool value (are you trying \"lb <= expr <= ub\"?)\n",
    "    # m.addConstr(data.early_time[i] <= B[i], name='early_time')\n",
    "    m.addConstr(early_time[i] <= B[i], name='early_time')\n",
    "    m.addConstr(B[i] <= last_time[i] , name='last_time')"
   ],
   "metadata": {
    "collapsed": false,
    "pycharm": {
     "name": "#%%\n"
    }
   }
  },
  {
   "cell_type": "code",
   "execution_count": 15,
   "outputs": [],
   "source": [
    "# 7\n",
    "demand = [0, 10, 20, 10, 10, 10, 20, 20, 30, 40, 10, -10, -20, -10, -10, -10, -20, -20, -30, -40, -10, 0]\n",
    "\n",
    "for i in N:\n",
    "    m.addConstr(max(0,demand[i]) <= Q[i], name='R7')\n",
    "    m.addConstr(Q[i] <= min(data.capacity,data.capacity+demand[i]), name='R8')"
   ],
   "metadata": {
    "collapsed": false,
    "pycharm": {
     "name": "#%%\n"
    }
   }
  },
  {
   "cell_type": "code",
   "execution_count": 16,
   "outputs": [],
   "source": [
    "# 8 加上服务时间\n",
    "for i in P:\n",
    "    m.addConstr(B[data.businessNum+i] >= B[i] + data.disMatrix[i][data.businessNum+i] + data.service_time[i])"
   ],
   "metadata": {
    "collapsed": false,
    "pycharm": {
     "name": "#%%\n"
    }
   }
  },
  {
   "cell_type": "code",
   "execution_count": 17,
   "outputs": [],
   "source": [
    "# 9\n",
    "for i in P:\n",
    "    m.addConstr(v[data.businessNum+i] == v[i])"
   ],
   "metadata": {
    "collapsed": false,
    "pycharm": {
     "name": "#%%\n"
    }
   }
  },
  {
   "cell_type": "code",
   "execution_count": 18,
   "outputs": [],
   "source": [
    "# 10\n",
    "for j in PUD:\n",
    "    m.addConstr(v[j] >= j * x[0,j])"
   ],
   "metadata": {
    "collapsed": false,
    "pycharm": {
     "name": "#%%\n"
    }
   }
  },
  {
   "cell_type": "code",
   "execution_count": 19,
   "outputs": [],
   "source": [
    "# 11\n",
    "for j in PUD:\n",
    "    m.addConstr(v[j] <= j * x[0,j] - data.businessNum * (x[0,j] - 1))"
   ],
   "metadata": {
    "collapsed": false,
    "pycharm": {
     "name": "#%%\n"
    }
   }
  },
  {
   "cell_type": "code",
   "execution_count": 20,
   "outputs": [],
   "source": [
    "# 12\n",
    "for i in PUD:\n",
    "    for j in PUD:\n",
    "        m.addConstr(v[j] >= v[i] + data.businessNum * (x[i,j] - 1))"
   ],
   "metadata": {
    "collapsed": false,
    "pycharm": {
     "name": "#%%\n"
    }
   }
  },
  {
   "cell_type": "code",
   "execution_count": 21,
   "outputs": [],
   "source": [
    "# 13\n",
    "for i in PUD:\n",
    "    for j in PUD:\n",
    "        m.addConstr(v[j] <= v[i] + data.businessNum * (1 - x[i,j]))"
   ],
   "metadata": {
    "collapsed": false,
    "pycharm": {
     "name": "#%%\n"
    }
   }
  },
  {
   "cell_type": "code",
   "execution_count": 22,
   "outputs": [
    {
     "data": {
      "text/plain": "<gurobi.Constr *Awaiting Model Update*>"
     },
     "execution_count": 22,
     "metadata": {},
     "output_type": "execute_result"
    }
   ],
   "source": [
    "# 14 不回0点\n",
    "lhs = LinExpr(0)\n",
    "for j in PUD:\n",
    "    lhs.addTerms(1, x[j, 0])\n",
    "m.addConstr(lhs == 0)"
   ],
   "metadata": {
    "collapsed": false,
    "pycharm": {
     "name": "#%%\n"
    }
   }
  },
  {
   "cell_type": "code",
   "execution_count": 23,
   "outputs": [],
   "source": [
    "# 任意车辆不从仓库到仓库\n",
    "# m.addConstr(x[0, data.nodeNum - 1] == 0)"
   ],
   "metadata": {
    "collapsed": false,
    "pycharm": {
     "name": "#%%\n"
    }
   }
  },
  {
   "cell_type": "code",
   "execution_count": 24,
   "outputs": [
    {
     "name": "stdout",
     "output_type": "stream",
     "text": [
      "Gurobi Optimizer version 9.5.1 build v9.5.1rc2 (win64)\n",
      "Thread count: 8 physical cores, 16 logical processors, using up to 16 threads\n",
      "Optimize a model with 1957 rows, 550 columns and 6223 nonzeros\n",
      "Model fingerprint: 0xb89d41be\n",
      "Variable types: 66 continuous, 484 integer (484 binary)\n",
      "Coefficient statistics:\n",
      "  Matrix range     [1e+00, 1e+05]\n",
      "  Objective range  [1e+00, 4e+01]\n",
      "  Bounds range     [1e+00, 1e+00]\n",
      "  RHS range        [1e+00, 1e+05]\n",
      "Found heuristic solution: objective 360.0216483\n",
      "Presolve removed 1910 rows and 457 columns\n",
      "Presolve time: 0.02s\n",
      "Presolved: 47 rows, 93 columns, 233 nonzeros\n",
      "Found heuristic solution: objective 164.0789424\n",
      "Variable types: 5 continuous, 88 integer (85 binary)\n",
      "Found heuristic solution: objective 133.9678719\n",
      "\n",
      "Root relaxation: objective 1.016125e+02, 9 iterations, 0.00 seconds (0.00 work units)\n",
      "\n",
      "    Nodes    |    Current Node    |     Objective Bounds      |     Work\n",
      " Expl Unexpl |  Obj  Depth IntInf | Incumbent    BestBd   Gap | It/Node Time\n",
      "\n",
      "*    0     0               0     101.6125328  101.61253  0.00%     -    0s\n",
      "\n",
      "Explored 1 nodes (9 simplex iterations) in 0.03 seconds (0.01 work units)\n",
      "Thread count was 16 (of 16 available processors)\n",
      "\n",
      "Solution count 4: 101.613 133.968 164.079 360.022 \n",
      "\n",
      "Optimal solution found (tolerance 1.00e-04)\n",
      "Best objective 1.016125328428e+02, best bound 1.016125328428e+02, gap 0.0000%\n"
     ]
    }
   ],
   "source": [
    "m.optimize()"
   ],
   "metadata": {
    "collapsed": false,
    "pycharm": {
     "name": "#%%\n"
    }
   }
  },
  {
   "cell_type": "code",
   "execution_count": 25,
   "outputs": [
    {
     "name": "stdout",
     "output_type": "stream",
     "text": [
      "\n",
      "\n",
      "-----optimal value-----\n",
      "101.6125328427624\n"
     ]
    }
   ],
   "source": [
    "print(\"\\n\\n-----optimal value-----\")\n",
    "print(m.ObjVal)"
   ],
   "metadata": {
    "collapsed": false,
    "pycharm": {
     "name": "#%%\n"
    }
   }
  },
  {
   "cell_type": "code",
   "execution_count": 26,
   "outputs": [
    {
     "name": "stdout",
     "output_type": "stream",
     "text": [
      "x[1,4] =  1.0\n",
      "x[2,14] =  1.0\n",
      "x[3,15] =  1.0\n",
      "x[4,2] =  1.0\n",
      "x[5,3] =  1.0\n",
      "x[6,16] =  1.0\n",
      "x[7,10] =  1.0\n",
      "x[8,18] =  1.0\n",
      "x[9,19] =  1.0\n",
      "x[10,20] =  1.0\n",
      "x[11,13] =  1.0\n",
      "x[12,11] =  1.0\n",
      "x[14,12] =  1.0\n",
      "x[15,6] =  1.0\n",
      "x[16,1] =  1.0\n",
      "x[18,7] =  1.0\n",
      "x[19,17] =  1.0\n",
      "x[20,9] =  1.0\n",
      "x[21,5] =  1.0\n",
      "x[21,8] =  1.0\n"
     ]
    }
   ],
   "source": [
    "for key in x.keys():\n",
    "    if(x[key].x > 0 ):\n",
    "        print(x[key].VarName + ' = ', x[key].x)"
   ],
   "metadata": {
    "collapsed": false,
    "pycharm": {
     "name": "#%%\n"
    }
   }
  },
  {
   "cell_type": "code",
   "execution_count": 27,
   "outputs": [
    {
     "name": "stdout",
     "output_type": "stream",
     "text": [
      "['x[1,4]', 'x[10,20]', 'x[11,13]', 'x[12,11]', 'x[14,12]', 'x[15,6]', 'x[16,1]', 'x[18,7]', 'x[19,17]', 'x[2,14]', 'x[20,9]', 'x[21,5]', 'x[21,8]', 'x[3,15]', 'x[4,2]', 'x[5,3]', 'x[6,16]', 'x[7,10]', 'x[8,18]', 'x[9,19]']\n",
      "提取数字 [['1', '4'], ['10', '20'], ['11', '13'], ['12', '11'], ['14', '12'], ['15', '6'], ['16', '1'], ['18', '7'], ['19', '17'], ['2', '14'], ['20', '9'], ['21', '5'], ['21', '8'], ['3', '15'], ['4', '2'], ['5', '3'], ['6', '16'], ['7', '10'], ['8', '18'], ['9', '19']]\n"
     ]
    }
   ],
   "source": [
    "\"\"\"结果处理\"\"\"\n",
    "'''字符转为list'''\n",
    "zifu = []\n",
    "for key in x.keys():\n",
    "    if (x[key].x > 0):\n",
    "        zifu.append(x[key].VarName)\n",
    "zifu.sort()\n",
    "print(zifu)\n",
    "\n",
    "'''提取数字'''\n",
    "import re\n",
    "fenge = [([]) for i in range(data.nodeNum-2)]\n",
    "for char in range(data.nodeNum-2):\n",
    "    a = zifu[char]\n",
    "    number = list(filter(str.isdigit, a))\n",
    "    fenge[char] = re.findall(r\"\\d+\\.?\\d*\", a)\n",
    "print('提取数字',fenge)"
   ],
   "metadata": {
    "collapsed": false,
    "pycharm": {
     "name": "#%%\n"
    }
   }
  },
  {
   "cell_type": "code",
   "execution_count": 28,
   "outputs": [],
   "source": [
    "import copy\n",
    "routes = []\n",
    "\n",
    "num = copy.deepcopy(fenge)\n",
    "for fen in fenge:\n",
    "    if fen[0] == '21':\n",
    "        routes.append(fen)\n",
    "        num.remove(fen)\n"
   ],
   "metadata": {
    "collapsed": false,
    "pycharm": {
     "name": "#%%\n"
    }
   }
  },
  {
   "cell_type": "code",
   "execution_count": 29,
   "outputs": [
    {
     "data": {
      "text/plain": "[['21', '5'], ['21', '8']]"
     },
     "execution_count": 29,
     "metadata": {},
     "output_type": "execute_result"
    }
   ],
   "source": [
    "routes"
   ],
   "metadata": {
    "collapsed": false,
    "pycharm": {
     "name": "#%%\n"
    }
   }
  },
  {
   "cell_type": "code",
   "execution_count": 30,
   "outputs": [
    {
     "data": {
      "text/plain": "[['1', '4'],\n ['10', '20'],\n ['11', '13'],\n ['12', '11'],\n ['14', '12'],\n ['15', '6'],\n ['16', '1'],\n ['18', '7'],\n ['19', '17'],\n ['2', '14'],\n ['20', '9'],\n ['3', '15'],\n ['4', '2'],\n ['5', '3'],\n ['6', '16'],\n ['7', '10'],\n ['8', '18'],\n ['9', '19']]"
     },
     "execution_count": 30,
     "metadata": {},
     "output_type": "execute_result"
    }
   ],
   "source": [
    "num"
   ],
   "metadata": {
    "collapsed": false,
    "pycharm": {
     "name": "#%%\n"
    }
   }
  },
  {
   "cell_type": "code",
   "execution_count": 31,
   "outputs": [
    {
     "data": {
      "text/plain": "['1',\n '10',\n '11',\n '12',\n '14',\n '15',\n '16',\n '18',\n '19',\n '2',\n '20',\n '3',\n '4',\n '5',\n '6',\n '7',\n '8',\n '9']"
     },
     "execution_count": 31,
     "metadata": {},
     "output_type": "execute_result"
    }
   ],
   "source": [
    "check = []\n",
    "for a in range(len(num)):\n",
    "    check.append(num[a][0])\n",
    "check"
   ],
   "metadata": {
    "collapsed": false,
    "pycharm": {
     "name": "#%%\n"
    }
   }
  },
  {
   "cell_type": "code",
   "execution_count": 32,
   "outputs": [
    {
     "name": "stdout",
     "output_type": "stream",
     "text": [
      "['21', '5', '3', '15', '6', '16', '1', '4', '2', '14', '12', '11', '13']\n",
      "['21', '8', '18', '7', '10', '20', '9', '19', '17']\n"
     ]
    }
   ],
   "source": [
    "for route in routes:\n",
    "    i = 1\n",
    "    j = 0\n",
    "    n = len(num)\n",
    "    while j <= n:\n",
    "        if route[i] == num[j][0]:\n",
    "            route.append(num[j][1])\n",
    "            # num.remove(num[j])\n",
    "            i += 1\n",
    "            j = 0\n",
    "        else:\n",
    "            j += 1\n",
    "        if route[i] not in check:\n",
    "            break\n",
    "    print(route)"
   ],
   "metadata": {
    "collapsed": false,
    "pycharm": {
     "name": "#%%\n"
    }
   }
  },
  {
   "cell_type": "code",
   "execution_count": 33,
   "outputs": [],
   "source": [
    "routes[0] = [int(x) for x in routes[0]]\n",
    "routes[1] = [int(x) for x in routes[1]]"
   ],
   "metadata": {
    "collapsed": false,
    "pycharm": {
     "name": "#%%\n"
    }
   }
  },
  {
   "cell_type": "code",
   "execution_count": 34,
   "outputs": [
    {
     "data": {
      "text/plain": "[[21, 5, 3, 15, 6, 16, 1, 4, 2, 14, 12, 11, 13],\n [21, 8, 18, 7, 10, 20, 9, 19, 17]]"
     },
     "execution_count": 34,
     "metadata": {},
     "output_type": "execute_result"
    }
   ],
   "source": [
    "routes"
   ],
   "metadata": {
    "collapsed": false,
    "pycharm": {
     "name": "#%%\n"
    }
   }
  },
  {
   "cell_type": "code",
   "execution_count": 43,
   "outputs": [
    {
     "data": {
      "text/plain": "<matplotlib.legend.Legend at 0x1e68a45e7f0>"
     },
     "execution_count": 43,
     "metadata": {},
     "output_type": "execute_result"
    },
    {
     "data": {
      "text/plain": "<Figure size 1800x1200 with 1 Axes>",
      "image/png": "[encoded data removed]"
     },
     "metadata": {
      "needs_background": "light"
     },
     "output_type": "display_data"
    }
   ],
   "source": [
    "'''画图'''\n",
    "plt.figure(dpi=300)\n",
    "\n",
    "x1,y1 = [],[]\n",
    "for i in routes[0]:\n",
    "    x1.append(data.cor_X[i])\n",
    "    y1.append(data.cor_Y[i])\n",
    "    if 21 > i > data.businessNum:\n",
    "        mark = 'o'\n",
    "    else:\n",
    "        mark = 's'\n",
    "    if 0< i < 21:\n",
    "        plt.scatter(data.cor_X[i],data.cor_Y[i],marker=mark,color='tab:blue',s=60)\n",
    "\n",
    "plt.plot(x1,y1,linewidth=0.8,color='tab:blue')\n",
    "\n",
    "x2,y2 = [],[]\n",
    "for i in routes[1]:\n",
    "    x2.append(data.cor_X[i])\n",
    "    y2.append(data.cor_Y[i])\n",
    "    if 21 > i > data.businessNum:\n",
    "        mark = 'o'\n",
    "    else:\n",
    "        mark = 's'\n",
    "\n",
    "    if 0< i < 21:\n",
    "        plt.scatter(data.cor_X[i],data.cor_Y[i],marker=mark,color='tab:green',s=60)\n",
    "\n",
    "plt.plot(x2,y2,linewidth=0.8,color='tab:green')\n",
    "\n",
    "plt.scatter(data.cor_X[0],data.cor_Y[0],marker='*',color='red',s=200,label='配送中心')\n",
    "plt.xticks(fontproperties='Times New Roman')\n",
    "plt.yticks(fontproperties='Times New Roman')\n",
    "plt.xlabel('x_coord', fontproperties='Times New Roman')\n",
    "plt.ylabel('y_coord', fontproperties='Times New Roman')\n",
    "plt.legend()"
   ],
   "metadata": {
    "collapsed": false,
    "pycharm": {
     "name": "#%%\n"
    }
   }
  },
  {
   "cell_type": "code",
   "execution_count": 35,
   "outputs": [],
   "source": [],
   "metadata": {
    "collapsed": false,
    "pycharm": {
     "name": "#%%\n"
    }
   }
  }
 ],
 "metadata": {
  "kernelspec": {
   "display_name": "Python 3",
   "language": "python",
   "name": "python3"
  },
  "language_info": {
   "codemirror_mode": {
    "name": "ipython",
    "version": 2
   },
   "file_extension": ".py",
   "mimetype": "text/x-python",
   "name": "python",
   "nbconvert_exporter": "python",
   "pygments_lexer": "ipython2",
   "version": "2.7.6"
  }
 },
 "nbformat": 4,
 "nbformat_minor": 0
}